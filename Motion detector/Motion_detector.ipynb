{
 "cells": [
  {
   "cell_type": "code",
   "execution_count": 2,
   "id": "a00ce31c",
   "metadata": {},
   "outputs": [],
   "source": [
    "import numpy as np\n",
    "import cv2\n",
    "import cv2 as cv\n",
    "from FINAL_IMG_PREP import *"
   ]
  },
  {
   "cell_type": "code",
   "execution_count": 3,
   "id": "5193a0c1",
   "metadata": {},
   "outputs": [
    {
     "name": "stdout",
     "output_type": "stream",
     "text": [
      "width 300.0, height 240.0, fps 15.007583619382135\n"
     ]
    }
   ],
   "source": [
    "cap = cv2.VideoCapture('/Users/monica_air/Documents/Caba_fire_smoke_detection/short_fire.mp4')\n",
    "\n",
    "#재생할 파일의 넓이 얻기\n",
    "width = cap.get(cv2.CAP_PROP_FRAME_WIDTH)\n",
    "\n",
    "#재생할 파일의 높이 얻기\n",
    "height = cap.get(cv2.CAP_PROP_FRAME_HEIGHT)\n",
    "#재생할 파일의 프레임 레이트 얻기\n",
    "fps = cap.get(cv2.CAP_PROP_FPS)\n",
    "\n",
    "print('width {0}, height {1}, fps {2}'.format(width, height, fps))\n",
    "\n",
    "#저장할 비디오 코덱\n",
    "fourcc = cv2.VideoWriter_fourcc(*'XVID')\n",
    "#저장할 파일 이름\n",
    "filename = 'detection_result_test.mp4'\n",
    "\n",
    "# #파일 stream 생성\n",
    "out = cv2.VideoWriter(filename, fourcc, fps, (int(width), int(height)))\n",
    "# out = cv2.VideoWriter(filename, fourcc, fps, (int(width), int(height)))\n",
    "\n",
    "\n",
    "if not cap.isOpened():\n",
    "    print('Video open failed!')\n",
    "    sys.exit()\n",
    "\n",
    "# 배경 영상 등록\n",
    "ret, back = cap.read()\n",
    "\n",
    "if not ret:\n",
    "    print('Background image registration failed!')\n",
    "    sys.exit()\n",
    "    \n",
    "# 연산 속도를 높이기 위해 그레이스케일 영상으로 변환\n",
    "back = cv2.cvtColor(back, cv2.COLOR_BGR2GRAY)\n",
    "\n",
    "# 가우시안 블러로 노이즈 제거 (모폴로지, 열기, 닫기 연산도 가능)\n",
    "back = cv2.GaussianBlur(back, (0, 0), 1.0)\n",
    "\n",
    "# 비디오 매 프레임 처리\n",
    "while True:\n",
    "    ret, frame = cap.read()\n",
    "    \n",
    "    if not ret:\n",
    "        break\n",
    "    \n",
    "    # 현재 프레임 영상 그레이스케일 변환\n",
    "    gray = cv2.cvtColor(frame, cv2.COLOR_BGR2GRAY)\n",
    "    # 노이즈 제거\n",
    "    gray = cv2.GaussianBlur(gray, (0, 0), 1.0)\n",
    "    \n",
    "    # 차영상 구하기 $ 이진화\n",
    "    # absdiff는 차 영상에 절대값\n",
    "    diff = cv2.absdiff(gray, back)\n",
    "    # gray_mean()이 조금 더 잘 잡힘\n",
    "    _, diff = cv2.threshold(diff, gray.mean(), 255, cv2.THRESH_BINARY)\n",
    "    \n",
    "    # 레이브링을 이용하여 바운딩 박스 표시\n",
    "    cnt, _, stats, _ = cv2.connectedComponentsWithStats(diff)\n",
    "    \n",
    "    for i in range(1, cnt):\n",
    "        x, y, w, h, s = stats[i]\n",
    "        \n",
    "        if s < 100:\n",
    "            continue\n",
    "        \n",
    "        cv2.rectangle(frame, (x, y, w, h), (0, 255, 0), 2)\n",
    "        cv2.putText(frame, \"Status:{}\".format('!!FIRE!!'), (10,20),cv2.FONT_HERSHEY_SIMPLEX,\n",
    "                   1, (0,0,255),3)\n",
    "\n",
    "    \n",
    "    cv2.imshow('frame', frame)\n",
    "    out.write(frame)\n",
    "#     cv2.imshow('diff', diff)\n",
    "\n",
    "    if cv2.waitKey(30) == 27:\n",
    "        break\n",
    "\n",
    "cap.release()\n",
    "out.release()\n",
    "cv2.destroyAllWindows()"
   ]
  },
  {
   "cell_type": "code",
   "execution_count": null,
   "id": "6251969a",
   "metadata": {},
   "outputs": [],
   "source": []
  },
  {
   "cell_type": "code",
   "execution_count": null,
   "id": "7e2a611d",
   "metadata": {},
   "outputs": [],
   "source": []
  }
 ],
 "metadata": {
  "kernelspec": {
   "display_name": "Python 3",
   "language": "python",
   "name": "python3"
  },
  "language_info": {
   "codemirror_mode": {
    "name": "ipython",
    "version": 3
   },
   "file_extension": ".py",
   "mimetype": "text/x-python",
   "name": "python",
   "nbconvert_exporter": "python",
   "pygments_lexer": "ipython3",
   "version": "3.8.8"
  },
  "toc": {
   "base_numbering": 1,
   "nav_menu": {},
   "number_sections": true,
   "sideBar": true,
   "skip_h1_title": false,
   "title_cell": "Table of Contents",
   "title_sidebar": "Contents",
   "toc_cell": false,
   "toc_position": {},
   "toc_section_display": true,
   "toc_window_display": false
  },
  "varInspector": {
   "cols": {
    "lenName": 16,
    "lenType": 16,
    "lenVar": 40
   },
   "kernels_config": {
    "python": {
     "delete_cmd_postfix": "",
     "delete_cmd_prefix": "del ",
     "library": "var_list.py",
     "varRefreshCmd": "print(var_dic_list())"
    },
    "r": {
     "delete_cmd_postfix": ") ",
     "delete_cmd_prefix": "rm(",
     "library": "var_list.r",
     "varRefreshCmd": "cat(var_dic_list()) "
    }
   },
   "types_to_exclude": [
    "module",
    "function",
    "builtin_function_or_method",
    "instance",
    "_Feature"
   ],
   "window_display": false
  }
 },
 "nbformat": 4,
 "nbformat_minor": 5
}
