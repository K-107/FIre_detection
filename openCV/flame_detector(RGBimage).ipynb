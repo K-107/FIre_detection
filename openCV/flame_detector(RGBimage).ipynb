{
 "cells": [
  {
   "cell_type": "code",
   "execution_count": 2,
   "id": "4ae45309",
   "metadata": {},
   "outputs": [],
   "source": [
    "import cv2 as cv\n",
    "from FINAL_IMG_PREP import *\n",
    "from video_info import *"
   ]
  },
  {
   "cell_type": "code",
   "execution_count": 3,
   "id": "50a55d27",
   "metadata": {},
   "outputs": [],
   "source": [
    "path = '/Users/monica_air/Desktop/주간 test.mp4'"
   ]
  },
  {
   "cell_type": "code",
   "execution_count": 4,
   "id": "89c0edcb",
   "metadata": {},
   "outputs": [
    {
     "name": "stdout",
     "output_type": "stream",
     "text": [
      "<VideoCapture 0x7fb8f24033f0>\n",
      "cap <VideoCapture 0x7fb8f24033f0>, width 854.0, height 480.0, fps 24.0\n",
      "codec {0} filename day_test_0520.mp4\n"
     ]
    }
   ],
   "source": [
    "cap, width, height, fps, fourcc, filename, out = vid_info(path, 'XVID', 'day_test_0520')"
   ]
  },
  {
   "cell_type": "code",
   "execution_count": null,
   "id": "9177d786",
   "metadata": {},
   "outputs": [],
   "source": [
    "while True:\n",
    "    ret, frame = cap.read()\n",
    "    \n",
    "    if ret == False:\n",
    "        break\n",
    "    \n",
    "    ##fire detection\n",
    "    blur =cv2.GaussianBlur(frame, (5,5),0)\n",
    "    hsv = cv2.cvtColor(blur, cv2.COLOR_BGR2HSV)\n",
    "    \n",
    "    lower = [18, 50, 50]\n",
    "    upper = [32, 255, 255]\n",
    "    \n",
    "    #numpy array converting\n",
    "    lower =np.array(lower, dtype ='uint8')\n",
    "    upper =np.array(upper, dtype ='uint8')\n",
    "    \n",
    "    #create mask\n",
    "    mask =cv2.inRange(hsv, lower, upper)\n",
    "    \n",
    "    #output\n",
    "    output =cv2.bitwise_and(frame, hsv, mask = mask)\n",
    "    \n",
    "    \n",
    "    #size of fire\n",
    "    number_of_total = cv2.countNonZero(mask)\n",
    "    if int(number_of_total) > 1500:\n",
    "        pass\n",
    "        \n",
    "    cv2.imshow('test', output)\n",
    "    out.write(output)\n",
    "    \n",
    "    if cv2.waitKey(1) & 0xFF == ord('q'):\n",
    "        break\n",
    "        \n",
    "\n",
    "cap.release()\n",
    "out.release()\n",
    "cv2.destroyAllWindows()"
   ]
  },
  {
   "cell_type": "code",
   "execution_count": null,
   "id": "69f6521a",
   "metadata": {},
   "outputs": [],
   "source": []
  }
 ],
 "metadata": {
  "kernelspec": {
   "display_name": "Python 3",
   "language": "python",
   "name": "python3"
  },
  "language_info": {
   "codemirror_mode": {
    "name": "ipython",
    "version": 3
   },
   "file_extension": ".py",
   "mimetype": "text/x-python",
   "name": "python",
   "nbconvert_exporter": "python",
   "pygments_lexer": "ipython3",
   "version": "3.8.8"
  },
  "toc": {
   "base_numbering": 1,
   "nav_menu": {},
   "number_sections": true,
   "sideBar": true,
   "skip_h1_title": false,
   "title_cell": "Table of Contents",
   "title_sidebar": "Contents",
   "toc_cell": false,
   "toc_position": {},
   "toc_section_display": true,
   "toc_window_display": false
  },
  "varInspector": {
   "cols": {
    "lenName": 16,
    "lenType": 16,
    "lenVar": 40
   },
   "kernels_config": {
    "python": {
     "delete_cmd_postfix": "",
     "delete_cmd_prefix": "del ",
     "library": "var_list.py",
     "varRefreshCmd": "print(var_dic_list())"
    },
    "r": {
     "delete_cmd_postfix": ") ",
     "delete_cmd_prefix": "rm(",
     "library": "var_list.r",
     "varRefreshCmd": "cat(var_dic_list()) "
    }
   },
   "types_to_exclude": [
    "module",
    "function",
    "builtin_function_or_method",
    "instance",
    "_Feature"
   ],
   "window_display": false
  }
 },
 "nbformat": 4,
 "nbformat_minor": 5
}
