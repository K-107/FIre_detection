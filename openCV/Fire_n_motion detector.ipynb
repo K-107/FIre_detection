{
 "cells": [
  {
   "cell_type": "code",
   "execution_count": 2,
   "id": "4897e804",
   "metadata": {},
   "outputs": [],
   "source": [
    "import numpy as np\n",
    "import cv2\n",
    "import cv2 as cv\n",
    "from FINAL_IMG_PREP import *\n",
    "from video_info import *"
   ]
  },
  {
   "cell_type": "code",
   "execution_count": 3,
   "id": "31047857",
   "metadata": {},
   "outputs": [],
   "source": [
    "path ='/Users/monica_air/Documents/Caba_fire_smoke_detection/surveilance_fire/Riverside cosplayer arrested  in Ontario arson fire; incident captured on surveillance video.mp4'"
   ]
  },
  {
   "cell_type": "code",
   "execution_count": 4,
   "id": "37db383e",
   "metadata": {},
   "outputs": [
    {
     "name": "stdout",
     "output_type": "stream",
     "text": [
      "<VideoCapture 0x7f87da982c50>\n",
      "cap <VideoCapture 0x7f87da982c50>, width 540.0, height 360.0, fps 30.008813958277152\n",
      "codec {0} filename 0514_test.mp4\n"
     ]
    }
   ],
   "source": [
    "cap, width, height, fps, fourcc, filename, out = vid_info(path, 'XVID', '0514_test')"
   ]
  },
  {
   "cell_type": "code",
   "execution_count": 5,
   "id": "e5a11bb1",
   "metadata": {},
   "outputs": [],
   "source": [
    "if not cap.isOpened():\n",
    "    print('Video open failed!')\n",
    "    sys.exit()\n",
    "\n",
    "# 배경 영상 등록\n",
    "ret, back = cap.read()\n",
    "\n",
    "if not ret:\n",
    "    print('Background image registration failed!')\n",
    "    sys.exit()\n",
    "    \n",
    "#background 만들기\n",
    "back=background(cap)\n",
    "# 비디오 매 프레임 처리\n",
    "while True:\n",
    "    ret, frame = cap.read()\n",
    "    \n",
    "    if not ret:\n",
    "        break\n",
    "    \n",
    "    # 현재 프레임 영상 그레이스케일 변환\n",
    "    gray = cv2.cvtColor(frame, cv2.COLOR_BGR2GRAY)\n",
    "    # 노이즈 제거\n",
    "    gray = cv2.GaussianBlur(gray, (0, 0), 1.0)\n",
    "    \n",
    "    #####\n",
    "    hsv = cv2.cvtColor(frame, cv2.COLOR_BGR2HSV)\n",
    "    h,s,v = cv2.split(hsv)\n",
    "    \n",
    "    # 차영상 구하기 $ 이진화\n",
    "    # absdiff는 차 영상에 절대값\n",
    "    diff = cv2.absdiff(gray, back)\n",
    "    # gray_mean() or 밝기정도 지정 가능\n",
    "    \n",
    "    \n",
    "    ####!!!!!back.mean()으로 하면 smoke까지 가능?\n",
    "    _, diff = cv2.threshold(diff, v.mean(), 255, cv2.THRESH_BINARY)\n",
    "\n",
    "    # 레이블링을 이용하여 바운딩 박스 표시\n",
    "    cnt, _, stats, _ = cv2.connectedComponentsWithStats(diff)\n",
    "    \n",
    "    #contour\n",
    "    contours, _ = cv2.findContours(diff, cv2.RETR_TREE, cv2.CHAIN_APPROX_SIMPLE)\n",
    "    \n",
    "    \n",
    "    for i in range(1, cnt):\n",
    "        x, y, w, h, s = stats[i]\n",
    "        \n",
    "        if s < 100:\n",
    "            continue\n",
    "        \n",
    "#         cv2.drawContours(frame, contours, -1, (0, 0, 255),5)\n",
    "        cv2.rectangle(frame, (x, y, w, h), (0, 255, 0), 1)\n",
    "#         cv2.putText(frame, \"Status:{}\".format('!!FIRE!!'), (10,20),cv2.FONT_HERSHEY_SIMPLEX,\n",
    "#                    1, (0,0,255),3)\n",
    "\n",
    "###light detection\n",
    "        ret, thr = cv2.threshold(gray,180, 255,cv2.THRESH_TOZERO)\n",
    "        con, hier = cv2.findContours(thr, cv.RETR_TREE, cv2.CHAIN_APPROX_SIMPLE)\n",
    "        for cnt in con:\n",
    "            cv2.drawContours(frame, [cnt], -1, (0,0,255),1)\n",
    "            \n",
    "    cv2.imshow('frame', frame)\n",
    "    out.write(frame)\n",
    "    \n",
    "    if cv2.waitKey(30) == 27:\n",
    "        break\n",
    "\n",
    "cap.release()\n",
    "out.release()\n",
    "cv2.destroyAllWindows()"
   ]
  },
  {
   "cell_type": "code",
   "execution_count": null,
   "id": "e385a850",
   "metadata": {},
   "outputs": [],
   "source": []
  }
 ],
 "metadata": {
  "kernelspec": {
   "display_name": "Python 3",
   "language": "python",
   "name": "python3"
  },
  "language_info": {
   "codemirror_mode": {
    "name": "ipython",
    "version": 3
   },
   "file_extension": ".py",
   "mimetype": "text/x-python",
   "name": "python",
   "nbconvert_exporter": "python",
   "pygments_lexer": "ipython3",
   "version": "3.8.8"
  },
  "toc": {
   "base_numbering": 1,
   "nav_menu": {},
   "number_sections": true,
   "sideBar": true,
   "skip_h1_title": false,
   "title_cell": "Table of Contents",
   "title_sidebar": "Contents",
   "toc_cell": false,
   "toc_position": {},
   "toc_section_display": true,
   "toc_window_display": false
  },
  "varInspector": {
   "cols": {
    "lenName": 16,
    "lenType": 16,
    "lenVar": 40
   },
   "kernels_config": {
    "python": {
     "delete_cmd_postfix": "",
     "delete_cmd_prefix": "del ",
     "library": "var_list.py",
     "varRefreshCmd": "print(var_dic_list())"
    },
    "r": {
     "delete_cmd_postfix": ") ",
     "delete_cmd_prefix": "rm(",
     "library": "var_list.r",
     "varRefreshCmd": "cat(var_dic_list()) "
    }
   },
   "types_to_exclude": [
    "module",
    "function",
    "builtin_function_or_method",
    "instance",
    "_Feature"
   ],
   "window_display": false
  }
 },
 "nbformat": 4,
 "nbformat_minor": 5
}
