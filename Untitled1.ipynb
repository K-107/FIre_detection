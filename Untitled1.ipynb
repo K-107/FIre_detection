{
  "nbformat": 4,
  "nbformat_minor": 0,
  "metadata": {
    "colab": {
      "name": "Untitled1.ipynb",
      "provenance": [],
      "authorship_tag": "ABX9TyMPtAwb8Rr5wLAK1EJGhrAx",
      "include_colab_link": true
    },
    "kernelspec": {
      "name": "python3",
      "display_name": "Python 3"
    },
    "language_info": {
      "name": "python"
    }
  },
  "cells": [
    {
      "cell_type": "markdown",
      "metadata": {
        "id": "view-in-github",
        "colab_type": "text"
      },
      "source": [
        "<a href=\"https://colab.research.google.com/github/MonicaKim89/FIre_detection/blob/main/Untitled1.ipynb\" target=\"_parent\"><img src=\"https://colab.research.google.com/assets/colab-badge.svg\" alt=\"Open In Colab\"/></a>"
      ]
    },
    {
      "cell_type": "code",
      "metadata": {
        "id": "Om_a5CC86Oe9"
      },
      "source": [
        "으\n",
        "\n",
        "\n",
        "개쩐다~~~\n",
        "\n",
        "ㅇㅇㅇㅇㅇㅇ"
      ],
      "execution_count": null,
      "outputs": []
    }
  ]
}